{
 "cells": [
  {
   "cell_type": "code",
   "execution_count": 1,
   "metadata": {},
   "outputs": [],
   "source": [
    "import cProfile\n",
    "import numpy as np\n",
    "import timeit\n",
    "\n",
    "import calculator as calc\n",
    "import calculator_opt as calc_opt"
   ]
  },
  {
   "cell_type": "code",
   "execution_count": 2,
   "metadata": {},
   "outputs": [],
   "source": [
    "%load_ext line_profiler"
   ]
  },
  {
   "cell_type": "code",
   "execution_count": 3,
   "metadata": {},
   "outputs": [],
   "source": [
    "M = 10**3\n",
    "N = 10**3\n",
    "\n",
    "A = np.random.random((M,N))\n",
    "B = np.random.random((M,N))"
   ]
  },
  {
   "cell_type": "markdown",
   "metadata": {},
   "source": [
    "Here is the cProfile for the hypotenuse function, which is the calculator's ultimate output. The goal of the assignment is to use cProfile and line_profiler to identify areas with which to optimize the program with numpy. "
   ]
  },
  {
   "cell_type": "code",
   "execution_count": 4,
   "metadata": {},
   "outputs": [
    {
     "name": "stdout",
     "output_type": "stream",
     "text": [
      "         1000014 function calls in 6.507 seconds\n",
      "\n",
      "   Ordered by: standard name\n",
      "\n",
      "   ncalls  tottime  percall  cumtime  percall filename:lineno(function)\n",
      "        1    0.000    0.000    0.000    0.000 <frozen importlib._bootstrap>:1009(_handle_fromlist)\n",
      "        1    0.004    0.004    6.507    6.507 <string>:1(<module>)\n",
      "        2    3.356    1.678    3.356    1.678 calculator.py:19(multiply)\n",
      "        1    1.219    1.219    1.581    1.581 calculator.py:32(sqrt)\n",
      "        1    0.000    0.000    6.502    6.502 calculator.py:45(hypotenuse)\n",
      "        1    1.566    1.566    1.566    1.566 calculator.py:6(add)\n",
      "        1    0.000    0.000    6.507    6.507 {built-in method builtins.exec}\n",
      "        1    0.000    0.000    0.000    0.000 {built-in method builtins.hasattr}\n",
      "  1000000    0.362    0.000    0.362    0.000 {built-in method math.sqrt}\n",
      "        4    0.000    0.000    0.000    0.000 {built-in method numpy.zeros}\n",
      "        1    0.000    0.000    0.000    0.000 {method 'disable' of '_lsprof.Profiler' objects}\n",
      "\n",
      "\n"
     ]
    }
   ],
   "source": [
    "cProfile.run(\"calc.hypotenuse(A,B)\")"
   ]
  },
  {
   "cell_type": "markdown",
   "metadata": {},
   "source": [
    "Based on the cProfile, I can see that most of the time is being spent in the subfunctions: multiply, add, and hypoteneuse. I'm going to start with the multiply function, which has an outsized impact on runtime because it is called twice. Here is its cProfile and line profile. "
   ]
  },
  {
   "cell_type": "code",
   "execution_count": 5,
   "metadata": {},
   "outputs": [
    {
     "name": "stdout",
     "output_type": "stream",
     "text": [
      "         5 function calls in 1.555 seconds\n",
      "\n",
      "   Ordered by: standard name\n",
      "\n",
      "   ncalls  tottime  percall  cumtime  percall filename:lineno(function)\n",
      "        1    0.001    0.001    1.555    1.555 <string>:1(<module>)\n",
      "        1    1.554    1.554    1.555    1.555 calculator.py:19(multiply)\n",
      "        1    0.000    0.000    1.555    1.555 {built-in method builtins.exec}\n",
      "        1    0.001    0.001    0.001    0.001 {built-in method numpy.zeros}\n",
      "        1    0.000    0.000    0.000    0.000 {method 'disable' of '_lsprof.Profiler' objects}\n",
      "\n",
      "\n"
     ]
    }
   ],
   "source": [
    "cProfile.run(\"calc.multiply(A,B)\")\n",
    "%lprun -f calc.multiply calc.multiply(A,B)"
   ]
  },
  {
   "cell_type": "markdown",
   "metadata": {},
   "source": [
    "Based on the line profile, I observed that most of the time was being spent handling the calculations in the loop. I therefore used numpy vectorizations to optimize that area of the calculation. \n",
    "\n",
    "Now, I want to a) confirm that the function's output is the same and b) take a look at the new profile. I'm looking at its cProfile results only because line profiler won't give meaningful information on a one line function. "
   ]
  },
  {
   "cell_type": "code",
   "execution_count": 6,
   "metadata": {},
   "outputs": [
    {
     "name": "stdout",
     "output_type": "stream",
     "text": [
      "True\n",
      "         4 function calls in 0.005 seconds\n",
      "\n",
      "   Ordered by: standard name\n",
      "\n",
      "   ncalls  tottime  percall  cumtime  percall filename:lineno(function)\n",
      "        1    0.001    0.001    0.005    0.005 <string>:1(<module>)\n",
      "        1    0.004    0.004    0.004    0.004 calculator_opt.py:14(multiply)\n",
      "        1    0.000    0.000    0.005    0.005 {built-in method builtins.exec}\n",
      "        1    0.000    0.000    0.000    0.000 {method 'disable' of '_lsprof.Profiler' objects}\n",
      "\n",
      "\n"
     ]
    }
   ],
   "source": [
    "print(np.array_equal(calc.multiply(A,B), calc_opt.multiply(A,B)))\n",
    "cProfile.run(\"calc_opt.multiply(A,B)\")"
   ]
  },
  {
   "cell_type": "markdown",
   "metadata": {},
   "source": [
    "Next, I'm going to look at the add function. Again, I'm going to start by looking at its cProfile and line profile. "
   ]
  },
  {
   "cell_type": "code",
   "execution_count": 7,
   "metadata": {},
   "outputs": [
    {
     "name": "stdout",
     "output_type": "stream",
     "text": [
      "         5 function calls in 1.539 seconds\n",
      "\n",
      "   Ordered by: standard name\n",
      "\n",
      "   ncalls  tottime  percall  cumtime  percall filename:lineno(function)\n",
      "        1    0.001    0.001    1.539    1.539 <string>:1(<module>)\n",
      "        1    1.538    1.538    1.538    1.538 calculator.py:6(add)\n",
      "        1    0.000    0.000    1.539    1.539 {built-in method builtins.exec}\n",
      "        1    0.001    0.001    0.001    0.001 {built-in method numpy.zeros}\n",
      "        1    0.000    0.000    0.000    0.000 {method 'disable' of '_lsprof.Profiler' objects}\n",
      "\n",
      "\n"
     ]
    }
   ],
   "source": [
    "cProfile.run(\"calc.add(A,B)\")\n",
    "%lprun -f calc.add calc.add(A,B)"
   ]
  },
  {
   "cell_type": "markdown",
   "metadata": {},
   "source": [
    "Again, based on the line profile, I observed that most of the time was being spent handling the calculations in the loop. I therefore used numpy vectorizations to optimize that area of the calculation. \n",
    "\n",
    "Now, I want to a) confirm that the function's output is the same and b) take a look at the new profile. I'm looking at its cProfile results only because line profiler won't give meaningful information on a one line function. "
   ]
  },
  {
   "cell_type": "code",
   "execution_count": 8,
   "metadata": {},
   "outputs": [
    {
     "name": "stdout",
     "output_type": "stream",
     "text": [
      "True\n",
      "         4 function calls in 0.006 seconds\n",
      "\n",
      "   Ordered by: standard name\n",
      "\n",
      "   ncalls  tottime  percall  cumtime  percall filename:lineno(function)\n",
      "        1    0.001    0.001    0.006    0.006 <string>:1(<module>)\n",
      "        1    0.005    0.005    0.005    0.005 calculator_opt.py:6(add)\n",
      "        1    0.000    0.000    0.006    0.006 {built-in method builtins.exec}\n",
      "        1    0.000    0.000    0.000    0.000 {method 'disable' of '_lsprof.Profiler' objects}\n",
      "\n",
      "\n"
     ]
    }
   ],
   "source": [
    "print(np.array_equal(calc.add(A,B), calc_opt.add(A,B)))\n",
    "cProfile.run(\"calc_opt.add(A,B)\")"
   ]
  },
  {
   "cell_type": "markdown",
   "metadata": {},
   "source": [
    "The last function that I'm going to look at is the square root function. Again, I'm going to start by looking at its cProfile and line profile. "
   ]
  },
  {
   "cell_type": "code",
   "execution_count": 9,
   "metadata": {},
   "outputs": [
    {
     "name": "stdout",
     "output_type": "stream",
     "text": [
      "         1000007 function calls in 1.477 seconds\n",
      "\n",
      "   Ordered by: standard name\n",
      "\n",
      "   ncalls  tottime  percall  cumtime  percall filename:lineno(function)\n",
      "        1    0.000    0.000    0.000    0.000 <frozen importlib._bootstrap>:1009(_handle_fromlist)\n",
      "        1    0.001    0.001    1.477    1.477 <string>:1(<module>)\n",
      "        1    1.147    1.147    1.476    1.476 calculator.py:32(sqrt)\n",
      "        1    0.000    0.000    1.477    1.477 {built-in method builtins.exec}\n",
      "        1    0.000    0.000    0.000    0.000 {built-in method builtins.hasattr}\n",
      "  1000000    0.328    0.000    0.328    0.000 {built-in method math.sqrt}\n",
      "        1    0.000    0.000    0.000    0.000 {built-in method numpy.zeros}\n",
      "        1    0.000    0.000    0.000    0.000 {method 'disable' of '_lsprof.Profiler' objects}\n",
      "\n",
      "\n"
     ]
    }
   ],
   "source": [
    "cProfile.run(\"calc.sqrt(A)\")\n",
    "%lprun -f calc.sqrt calc.sqrt(A)"
   ]
  },
  {
   "cell_type": "markdown",
   "metadata": {},
   "source": [
    "Again, based on the line profile, I observed that most of the time was being spent handling the calculations in the loop. I therefore used numpy vectorizations to optimize that area of the calculation. \n",
    "\n",
    "Now, I want to a) confirm that the function's output is the same and b) take a look at the new profile. I'm looking at its cProfile results only because line profiler won't give meaningful information on a one line function. "
   ]
  },
  {
   "cell_type": "code",
   "execution_count": 10,
   "metadata": {},
   "outputs": [
    {
     "name": "stdout",
     "output_type": "stream",
     "text": [
      "True\n",
      "         4 function calls in 0.008 seconds\n",
      "\n",
      "   Ordered by: standard name\n",
      "\n",
      "   ncalls  tottime  percall  cumtime  percall filename:lineno(function)\n",
      "        1    0.001    0.001    0.008    0.008 <string>:1(<module>)\n",
      "        1    0.007    0.007    0.007    0.007 calculator_opt.py:22(sqrt)\n",
      "        1    0.000    0.000    0.008    0.008 {built-in method builtins.exec}\n",
      "        1    0.000    0.000    0.000    0.000 {method 'disable' of '_lsprof.Profiler' objects}\n",
      "\n",
      "\n"
     ]
    }
   ],
   "source": [
    "print(np.array_equal(calc.sqrt(A), calc_opt.sqrt(A)))\n",
    "cProfile.run(\"calc_opt.sqrt(A)\")"
   ]
  },
  {
   "cell_type": "markdown",
   "metadata": {},
   "source": [
    "If I wanted to optimize further, I would do so by reducing function overhead, doing calculations directly within hypoteneuse rather than in individual functions. However, I think that the increase in speed wouldn't justify the loss of modularity. So I'm just going to measure how much I've speed this up. "
   ]
  },
  {
   "cell_type": "code",
   "execution_count": 14,
   "metadata": {},
   "outputs": [
    {
     "name": "stdout",
     "output_type": "stream",
     "text": [
      "Original Function, Best Time: 58.661\n",
      "Optimized Function, Best Time: 0.211\n",
      "Optimized Function, Speedup: 278.55x\n"
     ]
    }
   ],
   "source": [
    "num_tests = 10\n",
    "num_repeats = 3\n",
    "\n",
    "time_vector_original = timeit.repeat(\"calc.hypotenuse(A,B)\", number = num_tests, repeat = num_repeats, globals=globals())\n",
    "time_best_original = min(time_vector_original)\n",
    "print(\"Original Function, Best Time: {:.3f}\".format(time_best_original))\n",
    "\n",
    "time_vector_opt = timeit.repeat(\"calc_opt.hypotenuse(A,B)\", number = num_tests, repeat = num_repeats, globals=globals())\n",
    "time_best_opt = min(time_vector_opt)\n",
    "print(\"Optimized Function, Best Time: {:.3f}\".format(time_best_opt))\n",
    "\n",
    "speedup_opt = time_best_original / time_best_opt\n",
    "\n",
    "print(\"Optimized Function, Speedup: {:.2f}x\".format(speedup_opt))"
   ]
  }
 ],
 "metadata": {
  "kernelspec": {
   "display_name": "Python 3",
   "language": "python",
   "name": "python3"
  },
  "language_info": {
   "codemirror_mode": {
    "name": "ipython",
    "version": 3
   },
   "file_extension": ".py",
   "mimetype": "text/x-python",
   "name": "python",
   "nbconvert_exporter": "python",
   "pygments_lexer": "ipython3",
   "version": "3.7.6"
  }
 },
 "nbformat": 4,
 "nbformat_minor": 4
}
