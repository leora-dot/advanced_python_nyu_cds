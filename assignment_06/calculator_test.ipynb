{
 "cells": [
  {
   "cell_type": "code",
   "execution_count": 1,
   "metadata": {},
   "outputs": [],
   "source": [
    "import numpy as np\n",
    "import calculator as calc\n",
    "import calculator_opt as calc_opt"
   ]
  },
  {
   "cell_type": "code",
   "execution_count": 2,
   "metadata": {},
   "outputs": [],
   "source": [
    "M = 10**3\n",
    "N = 10**3\n",
    "\n",
    "A = np.random.random((M,N))\n",
    "B = np.random.random((M,N))"
   ]
  },
  {
   "cell_type": "code",
   "execution_count": 3,
   "metadata": {},
   "outputs": [
    {
     "data": {
      "text/plain": [
       "array([[0.61584259, 0.40502171, 0.65274706, ..., 1.1389732 , 0.69754356,\n",
       "        1.13183798],\n",
       "       [0.98397231, 0.87745005, 0.1102657 , ..., 0.97150392, 0.47544782,\n",
       "        0.8499713 ],\n",
       "       [0.60112592, 0.54942717, 0.92801118, ..., 0.64255514, 1.1076461 ,\n",
       "        0.29712231],\n",
       "       ...,\n",
       "       [0.7905751 , 0.75490391, 0.93564708, ..., 1.27097414, 0.53118883,\n",
       "        0.65358211],\n",
       "       [0.91529899, 0.52895288, 1.02038031, ..., 0.9747749 , 0.85293712,\n",
       "        0.58283882],\n",
       "       [0.9185125 , 0.92436276, 0.80562808, ..., 0.34571721, 0.74253174,\n",
       "        1.07520932]])"
      ]
     },
     "execution_count": 3,
     "metadata": {},
     "output_type": "execute_result"
    }
   ],
   "source": [
    "calc.hypotenuse(A,B)"
   ]
  }
 ],
 "metadata": {
  "kernelspec": {
   "display_name": "Python 3",
   "language": "python",
   "name": "python3"
  },
  "language_info": {
   "codemirror_mode": {
    "name": "ipython",
    "version": 3
   },
   "file_extension": ".py",
   "mimetype": "text/x-python",
   "name": "python",
   "nbconvert_exporter": "python",
   "pygments_lexer": "ipython3",
   "version": "3.7.6"
  }
 },
 "nbformat": 4,
 "nbformat_minor": 4
}
