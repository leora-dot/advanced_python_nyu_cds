{
 "cells": [
  {
   "cell_type": "code",
   "execution_count": 1,
   "metadata": {},
   "outputs": [],
   "source": [
    "import itertools\n",
    "import timeit\n",
    "import numpy as np"
   ]
  },
  {
   "cell_type": "code",
   "execution_count": 2,
   "metadata": {},
   "outputs": [],
   "source": [
    "%load_ext line_profiler"
   ]
  },
  {
   "cell_type": "markdown",
   "metadata": {},
   "source": [
    "This is the original function, as given in the exercise. The goal is to assess it with line_profiler and to write a faster version."
   ]
  },
  {
   "cell_type": "code",
   "execution_count": 3,
   "metadata": {},
   "outputs": [],
   "source": [
    "def primes(n=1000): \n",
    "    A = [True] * (n+1)\n",
    "    \n",
    "    A[0] = False\n",
    "    A[1] = False\n",
    "    for i in range(2, int(n**0.5)):\n",
    "        if A[i]:\n",
    "            for j in range(i**2, n+1, i):\n",
    "                A[j] = False\n",
    "\n",
    "    return [x for x in range(2, n) if A[x]]"
   ]
  },
  {
   "cell_type": "code",
   "execution_count": 4,
   "metadata": {},
   "outputs": [],
   "source": [
    "%lprun -f primes primes(10000)"
   ]
  },
  {
   "cell_type": "markdown",
   "metadata": {},
   "source": [
    "Based on line profiler, I can see that the function spends most of its time generating the range of j values and setting A[j] to false. The list comprehension at the end of the function also makes a small contribution. I wasn't able to make a significant improvement on my own, so here is an optimized version from the internet. "
   ]
  },
  {
   "cell_type": "code",
   "execution_count": 5,
   "metadata": {},
   "outputs": [],
   "source": [
    "def faster_primes(n=1000):\n",
    "    \n",
    "    bools = np.array(([True] * (n+1)))\n",
    "    np.put(bools, range(2), False)\n",
    "    \n",
    "    for i in range(2, int(n**0.5)):\n",
    "        if bools[i]:\n",
    "            bools[i*i::i] = False\n",
    "            \n",
    "    return list(itertools.compress(range(n), bools))"
   ]
  },
  {
   "cell_type": "markdown",
   "metadata": {},
   "source": [
    "Here is the optimized version's line profiler. "
   ]
  },
  {
   "cell_type": "code",
   "execution_count": 6,
   "metadata": {},
   "outputs": [],
   "source": [
    "%lprun -f faster_primes faster_primes(10000)"
   ]
  },
  {
   "cell_type": "markdown",
   "metadata": {},
   "source": [
    "Here is the testing script given in the assignment. "
   ]
  },
  {
   "cell_type": "code",
   "execution_count": 7,
   "metadata": {},
   "outputs": [],
   "source": [
    "from nose.tools import assert_equal, assert_less\n",
    "assert_equal(primes(1000), faster_primes(1000))\n",
    "assert_less(timeit.timeit(faster_primes), timeit.timeit(primes))"
   ]
  },
  {
   "cell_type": "markdown",
   "metadata": {},
   "source": [
    "Here is my timeit since I wanted to see the speedup. "
   ]
  },
  {
   "cell_type": "code",
   "execution_count": 8,
   "metadata": {},
   "outputs": [
    {
     "name": "stdout",
     "output_type": "stream",
     "text": [
      "Original Function, Best Time: 0.239\n",
      "Optimized Function, Best Time: 0.132\n",
      "Optimized Function, Speedup: 1.81x\n"
     ]
    }
   ],
   "source": [
    "num_tests = 200\n",
    "num_repeats = 10\n",
    "\n",
    "time_vector_original = timeit.repeat(\"primes(10000)\", number = num_tests, repeat = num_repeats, globals=globals())\n",
    "time_best_original = min(time_vector_original)\n",
    "print(\"Original Function, Best Time: {:.3f}\".format(time_best_original))\n",
    "\n",
    "time_vector_opt = timeit.repeat(\"faster_primes(10000)\", number = num_tests, repeat = num_repeats, globals=globals())\n",
    "time_best_opt = min(time_vector_opt)\n",
    "print(\"Optimized Function, Best Time: {:.3f}\".format(time_best_opt))\n",
    "\n",
    "speedup_opt = time_best_original / time_best_opt\n",
    "\n",
    "print(\"Optimized Function, Speedup: {:.2f}x\".format(speedup_opt))"
   ]
  }
 ],
 "metadata": {
  "kernelspec": {
   "display_name": "Python 3",
   "language": "python",
   "name": "python3"
  },
  "language_info": {
   "codemirror_mode": {
    "name": "ipython",
    "version": 3
   },
   "file_extension": ".py",
   "mimetype": "text/x-python",
   "name": "python",
   "nbconvert_exporter": "python",
   "pygments_lexer": "ipython3",
   "version": "3.7.6"
  }
 },
 "nbformat": 4,
 "nbformat_minor": 4
}
