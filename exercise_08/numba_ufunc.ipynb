{
 "cells": [
  {
   "cell_type": "code",
   "execution_count": 1,
   "metadata": {},
   "outputs": [],
   "source": [
    "import numba\n",
    "import numpy as np"
   ]
  },
  {
   "cell_type": "markdown",
   "metadata": {},
   "source": [
    "Here's the code from the lecture with very slight modification. "
   ]
  },
  {
   "cell_type": "code",
   "execution_count": 4,
   "metadata": {},
   "outputs": [
    {
     "name": "stdout",
     "output_type": "stream",
     "text": [
      "[ 0  2  4  6  8 10]\n",
      "[ 0  4  8 12 16 20]\n"
     ]
    }
   ],
   "source": [
    "@numba.vectorize([numba.int64(numba.int64, numba.int64)])\n",
    "def vec_add(x, y):\n",
    "    return x + y\n",
    "\n",
    "a = np.arange(6, dtype=np.int64)\n",
    "b = np.linspace(0, 10, 6, dtype=np.int64)\n",
    "print(vec_add(a, a))\n",
    "print(vec_add(b, b))"
   ]
  },
  {
   "cell_type": "markdown",
   "metadata": {},
   "source": [
    "The exercise is to rewrite it so that it takes floats as arguments. That...doesn't seem all that complicated. "
   ]
  },
  {
   "cell_type": "code",
   "execution_count": 6,
   "metadata": {},
   "outputs": [],
   "source": [
    "@numba.vectorize([numba.float64(numba.float64, numba.float64)])\n",
    "def vec_add(x, y):\n",
    "    return x + y"
   ]
  },
  {
   "cell_type": "markdown",
   "metadata": {},
   "source": [
    "Here's the testing code. "
   ]
  },
  {
   "cell_type": "code",
   "execution_count": 7,
   "metadata": {},
   "outputs": [
    {
     "name": "stdout",
     "output_type": "stream",
     "text": [
      "Correct!\n"
     ]
    }
   ],
   "source": [
    "c = np.linspace(0, 1, 6)\n",
    "if (c * 2 == vec_add(c, c)).all():\n",
    "\tprint(\"Correct!\")"
   ]
  }
 ],
 "metadata": {
  "kernelspec": {
   "display_name": "Python 3",
   "language": "python",
   "name": "python3"
  },
  "language_info": {
   "codemirror_mode": {
    "name": "ipython",
    "version": 3
   },
   "file_extension": ".py",
   "mimetype": "text/x-python",
   "name": "python",
   "nbconvert_exporter": "python",
   "pygments_lexer": "ipython3",
   "version": "3.7.6"
  }
 },
 "nbformat": 4,
 "nbformat_minor": 4
}
